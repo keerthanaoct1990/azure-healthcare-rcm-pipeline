{
 "cells": [
  {
   "cell_type": "code",
   "execution_count": 0,
   "metadata": {
    "application/vnd.databricks.v1+cell": {
     "cellMetadata": {
      "byteLimit": 2048000,
      "implicitDf": true,
      "rowLimit": 10000
     },
     "inputWidgets": {},
     "nuid": "5d8aa7ee-f3c8-4d98-a6c4-a15a8ba95cd7",
     "showTitle": false,
     "tableResultSettingsMap": {},
     "title": ""
    }
   },
   "outputs": [],
   "source": [
    "%sql\n",
    "CREATE SCHEMA IF NOT EXISTS audit;\n",
    "\n",
    "CREATE TABLE IF NOT EXISTS audit.load_logs (\n",
    "    id BIGINT GENERATED ALWAYS AS IDENTITY,\n",
    "    data_source STRING,\n",
    "    tablename STRING,\n",
    "    numberofrowscopied INT,\n",
    "    watermarkcolumnname STRING,\n",
    "    loaddate TIMESTAMP\n",
    ");"
   ]
  },
  {
   "cell_type": "code",
   "execution_count": 0,
   "metadata": {
    "application/vnd.databricks.v1+cell": {
     "cellMetadata": {
      "byteLimit": 2048000,
      "implicitDf": true,
      "rowLimit": 10000
     },
     "inputWidgets": {},
     "nuid": "c23ad7f0-3ec3-4122-a4a4-7a4581598f62",
     "showTitle": false,
     "tableResultSettingsMap": {},
     "title": ""
    }
   },
   "outputs": [
    {
     "output_type": "display_data",
     "data": {
      "text/html": [
       "<style scoped>\n",
       "  .table-result-container {\n",
       "    max-height: 300px;\n",
       "    overflow: auto;\n",
       "  }\n",
       "  table, th, td {\n",
       "    border: 1px solid black;\n",
       "    border-collapse: collapse;\n",
       "  }\n",
       "  th, td {\n",
       "    padding: 5px;\n",
       "  }\n",
       "  th {\n",
       "    text-align: left;\n",
       "  }\n",
       "</style><div class='table-result-container'><table class='table-result'><thead style='background-color: white'><tr><th>id</th><th>data_source</th><th>tablename</th><th>numberofrowscopied</th><th>watermarkcolumnname</th><th>loaddate</th></tr></thead><tbody><tr><td>5</td><td>hos-a</td><td>dbo.transactions</td><td>10000</td><td>ModifiedDate</td><td>2025-08-11T17:27:31.200321Z</td></tr><tr><td>9</td><td>hos-b</td><td>dbo.transactions</td><td>10000</td><td>ModifiedDate</td><td>2025-08-11T17:27:45.792928Z</td></tr><tr><td>7</td><td>hos-a</td><td>dbo.encounters</td><td>10000</td><td>ModifiedDate</td><td>2025-08-11T17:27:31.397545Z</td></tr><tr><td>6</td><td>hos-b</td><td>dbo.encounters</td><td>10000</td><td>ModifiedDate</td><td>2025-08-11T17:27:32.966631Z</td></tr><tr><td>8</td><td>hos-b</td><td>dbo.patients</td><td>5000</td><td>Updated_Date</td><td>2025-08-11T17:27:42.689088Z</td></tr><tr><td>10</td><td>hos-a</td><td>dbo.patients</td><td>5000</td><td>ModifiedDate</td><td>2025-08-11T17:27:48.397177Z</td></tr><tr><td>1</td><td>hos-a</td><td>dbo.departments</td><td>20</td><td></td><td>2025-08-11T17:27:18.733571Z</td></tr><tr><td>3</td><td>hos-b</td><td>dbo.departments</td><td>20</td><td></td><td>2025-08-11T17:27:25.12508Z</td></tr><tr><td>2</td><td>hos-a</td><td>dbo.providers</td><td>25</td><td></td><td>2025-08-11T17:27:22.558069Z</td></tr><tr><td>4</td><td>hos-b</td><td>dbo.providers</td><td>30</td><td></td><td>2025-08-11T17:27:25.828411Z</td></tr></tbody></table></div>"
      ]
     },
     "metadata": {
      "application/vnd.databricks.v1+output": {
       "addedWidgets": {},
       "aggData": [],
       "aggError": "",
       "aggOverflow": false,
       "aggSchema": [],
       "aggSeriesLimitReached": false,
       "aggType": "",
       "arguments": {},
       "columnCustomDisplayInfos": {},
       "data": [
        [
         5,
         "hos-a",
         "dbo.transactions",
         10000,
         "ModifiedDate",
         "2025-08-11T17:27:31.200321Z"
        ],
        [
         9,
         "hos-b",
         "dbo.transactions",
         10000,
         "ModifiedDate",
         "2025-08-11T17:27:45.792928Z"
        ],
        [
         7,
         "hos-a",
         "dbo.encounters",
         10000,
         "ModifiedDate",
         "2025-08-11T17:27:31.397545Z"
        ],
        [
         6,
         "hos-b",
         "dbo.encounters",
         10000,
         "ModifiedDate",
         "2025-08-11T17:27:32.966631Z"
        ],
        [
         8,
         "hos-b",
         "dbo.patients",
         5000,
         "Updated_Date",
         "2025-08-11T17:27:42.689088Z"
        ],
        [
         10,
         "hos-a",
         "dbo.patients",
         5000,
         "ModifiedDate",
         "2025-08-11T17:27:48.397177Z"
        ],
        [
         1,
         "hos-a",
         "dbo.departments",
         20,
         "",
         "2025-08-11T17:27:18.733571Z"
        ],
        [
         3,
         "hos-b",
         "dbo.departments",
         20,
         "",
         "2025-08-11T17:27:25.12508Z"
        ],
        [
         2,
         "hos-a",
         "dbo.providers",
         25,
         "",
         "2025-08-11T17:27:22.558069Z"
        ],
        [
         4,
         "hos-b",
         "dbo.providers",
         30,
         "",
         "2025-08-11T17:27:25.828411Z"
        ]
       ],
       "datasetInfos": [
        {
         "name": "_sqldf",
         "schema": {
          "fields": [
           {
            "metadata": {},
            "name": "id",
            "nullable": true,
            "type": "long"
           },
           {
            "metadata": {},
            "name": "data_source",
            "nullable": true,
            "type": "string"
           },
           {
            "metadata": {},
            "name": "tablename",
            "nullable": true,
            "type": "string"
           },
           {
            "metadata": {},
            "name": "numberofrowscopied",
            "nullable": true,
            "type": "integer"
           },
           {
            "metadata": {},
            "name": "watermarkcolumnname",
            "nullable": true,
            "type": "string"
           },
           {
            "metadata": {},
            "name": "loaddate",
            "nullable": true,
            "type": "timestamp"
           }
          ],
          "type": "struct"
         },
         "tableIdentifier": null,
         "typeStr": "pyspark.sql.dataframe.DataFrame"
        }
       ],
       "dbfsResultPath": null,
       "isJsonSchema": true,
       "metadata": {
        "createTempViewForImplicitDf": true,
        "dataframeName": "_sqldf",
        "executionCount": 9
       },
       "overflow": false,
       "plotOptions": {
        "customPlotOptions": {},
        "displayType": "table",
        "pivotAggregation": null,
        "pivotColumns": null,
        "xColumns": null,
        "yColumns": null
       },
       "removedWidgets": [],
       "schema": [
        {
         "metadata": "{}",
         "name": "id",
         "type": "\"long\""
        },
        {
         "metadata": "{}",
         "name": "data_source",
         "type": "\"string\""
        },
        {
         "metadata": "{}",
         "name": "tablename",
         "type": "\"string\""
        },
        {
         "metadata": "{}",
         "name": "numberofrowscopied",
         "type": "\"integer\""
        },
        {
         "metadata": "{}",
         "name": "watermarkcolumnname",
         "type": "\"string\""
        },
        {
         "metadata": "{}",
         "name": "loaddate",
         "type": "\"timestamp\""
        }
       ],
       "type": "table"
      }
     },
     "output_type": "display_data"
    }
   ],
   "source": [
    "%sql \n",
    "select * from audit.load_logs"
   ]
  },
  {
   "cell_type": "code",
   "execution_count": 0,
   "metadata": {
    "application/vnd.databricks.v1+cell": {
     "cellMetadata": {
      "byteLimit": 2048000,
      "implicitDf": true,
      "rowLimit": 10000
     },
     "inputWidgets": {},
     "nuid": "ed2685f1-640c-4be4-85cc-ec1e09e0c9f5",
     "showTitle": false,
     "tableResultSettingsMap": {},
     "title": ""
    }
   },
   "outputs": [],
   "source": [
    "%sql\n",
    "truncate table audit.load_logs\n",
    "     \n"
   ]
  },
  {
   "cell_type": "code",
   "execution_count": 0,
   "metadata": {
    "application/vnd.databricks.v1+cell": {
     "cellMetadata": {
      "byteLimit": 2048000,
      "implicitDf": true,
      "rowLimit": 10000
     },
     "inputWidgets": {},
     "nuid": "1a40faec-52ab-4e0a-8413-97afcedbba4d",
     "showTitle": false,
     "tableResultSettingsMap": {},
     "title": ""
    }
   },
   "outputs": [],
   "source": [
    "%sql\n",
    "drop table audit.load_logs"
   ]
  }
 ],
 "metadata": {
  "application/vnd.databricks.v1+notebook": {
   "computePreferences": null,
   "dashboards": [],
   "environmentMetadata": null,
   "inputWidgetPreferences": null,
   "language": "python",
   "notebookMetadata": {
    "mostRecentlyExecutedCommandWithImplicitDF": {
     "commandId": 8623520635031040,
     "dataframes": [
      "_sqldf"
     ]
    },
    "pythonIndentUnit": 4
   },
   "notebookName": "1. audit_ddl",
   "widgets": {}
  },
  "language_info": {
   "name": "python"
  }
 },
 "nbformat": 4,
 "nbformat_minor": 0
}